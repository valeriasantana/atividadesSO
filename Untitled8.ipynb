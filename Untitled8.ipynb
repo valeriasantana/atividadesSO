{
  "nbformat": 4,
  "nbformat_minor": 0,
  "metadata": {
    "colab": {
      "name": "Untitled8.ipynb",
      "provenance": [],
      "authorship_tag": "ABX9TyPiDNyYeCdmkk96/CoMZa+T",
      "include_colab_link": true
    },
    "kernelspec": {
      "name": "python3",
      "display_name": "Python 3"
    }
  },
  "cells": [
    {
      "cell_type": "markdown",
      "metadata": {
        "id": "view-in-github",
        "colab_type": "text"
      },
      "source": [
        "<a href=\"https://colab.research.google.com/github/valeriasantana/atividadesSO/blob/main/Untitled8.ipynb\" target=\"_parent\"><img src=\"https://colab.research.google.com/assets/colab-badge.svg\" alt=\"Open In Colab\"/></a>"
      ]
    },
    {
      "cell_type": "code",
      "metadata": {
        "colab": {
          "base_uri": "https://localhost:8080/"
        },
        "id": "YfOZXZQoDOVt",
        "outputId": "36961d3e-c588-4a4c-8f68-1937b7f62cbf"
      },
      "source": [
        "from threading import Thread, get_ident\r\n",
        "\r\n",
        "\r\n",
        "class Somador(Thread):\r\n",
        "\r\n",
        "    def __init__(self, inicio, fim):\r\n",
        "        Thread.__init__(self)\r\n",
        "        self.inicio = inicio\r\n",
        "        self.fim = fim\r\n",
        "        self.somatorio = 0\r\n",
        "\r\n",
        "    def run(self):\r\n",
        "        for i in range(self.inicio, self.fim + 1):\r\n",
        "            self.somatorio += i\r\n",
        "            print('thread-', get_ident())\r\n",
        "\r\n",
        "\r\n",
        "s1 = Somador(0, 10)\r\n",
        "s1.start()\r\n",
        "s1.join()\r\n",
        "s2 = Somador(11, 20)\r\n",
        "s2.start()\r\n",
        "print(s1.somatorio, \"Valeria Santana Dias Ramalho\" )\r\n",
        "print(s2.somatorio)\r\n"
      ],
      "execution_count": 10,
      "outputs": [
        {
          "output_type": "stream",
          "text": [
            "thread- 139841986041600\n",
            "thread- 139841986041600\n",
            "thread- 139841986041600\n",
            "thread- 139841986041600\n",
            "thread- 139841986041600\n",
            "thread- 139841986041600\n",
            "thread- 139841986041600\n",
            "thread- 139841986041600\n",
            "thread- 139841986041600\n",
            "thread- 139841986041600\n",
            "thread- 139841986041600\n",
            "thread- 139841986041600\n",
            "thread- 139841986041600\n",
            "thread- 139841986041600\n",
            "thread- 139841986041600\n",
            "thread- 139841986041600\n",
            "thread- 139841986041600\n",
            "thread- 139841986041600\n",
            "thread- 139841986041600\n",
            "thread- 139841986041600\n",
            "thread- 139841986041600\n",
            "55 Valeria Santana Dias Ramalho\n",
            "155\n"
          ],
          "name": "stdout"
        }
      ]
    }
  ]
}